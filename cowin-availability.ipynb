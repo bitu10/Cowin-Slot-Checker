{
 "cells": [
  {
   "cell_type": "code",
   "execution_count": 1,
   "id": "7d10725a",
   "metadata": {},
   "outputs": [],
   "source": [
    "import requests"
   ]
  },
  {
   "cell_type": "code",
   "execution_count": 2,
   "id": "4f0cdd24",
   "metadata": {},
   "outputs": [],
   "source": [
    "from datetime import date, timedelta"
   ]
  },
  {
   "cell_type": "code",
   "execution_count": 3,
   "id": "41c14476",
   "metadata": {},
   "outputs": [],
   "source": [
    "#Cowin API request\n",
    "cowin_headers = {\n",
    "        \"User-Agent\": \"Mozilla/5.0 (Macintosh; Intel Mac OS X 10_15_7) AppleWebKit/537.36 (KHTML, like Gecko) Chrome/90.0.4430.93 Safari/537.36\",\n",
    "}"
   ]
  },
  {
   "cell_type": "code",
   "execution_count": 4,
   "id": "7702d1da",
   "metadata": {},
   "outputs": [],
   "source": [
    "pincodes=[560076,400058,400051,400064]"
   ]
  },
  {
   "cell_type": "code",
   "execution_count": 5,
   "id": "a8c26d91",
   "metadata": {},
   "outputs": [],
   "source": [
    "available_centers = {\n",
    "    'mumbai': {} ,\n",
    "    'bangalore': {}\n",
    "}"
   ]
  },
  {
   "cell_type": "code",
   "execution_count": 6,
   "id": "b47d9686",
   "metadata": {},
   "outputs": [],
   "source": [
    "for i in range(0,3):\n",
    "    reqd_date = date.today() + timedelta(days=i)\n",
    "    search_date = reqd_date.strftime(\"%d-%m-%Y\")\n",
    "    available_centers['mumbai'][search_date], available_centers['bangalore'][search_date]=[], []\n",
    "    for code in pincodes:\n",
    "        response = requests.get(f\"https://cdn-api.co-vin.in/api/v2/appointment/sessions/calendarByPin?pincode={code}&date={search_date}\" ,headers = cowin_headers)\n",
    "        if response.status_code==200:\n",
    "            centers = response.json()['centers'] \n",
    "            results = list(filter(lambda x:  (len(list (filter( lambda y: ( y['available_capacity']>0 and y['min_age_limit']==18),x['sessions'] )  ))>0), centers))\n",
    "            if len(results)>0:\n",
    "                available_centers['mumbai'][search_date].append((code,[x['name'] for x in results])) \\\n",
    "                if int(str(code)[:1]) == 4 else \\\n",
    "                         available_centers['bangalore'][search_date].append((code,[x['name'] for x in results]))\n",
    "                    \n",
    "    if len(available_centers['mumbai'][search_date])==0:\n",
    "        del available_centers['mumbai'][search_date]\n",
    "    if len(available_centers['bangalore'][search_date])==0: \n",
    "        del available_centers['bangalore'][search_date]\n",
    "    \n",
    "                "
   ]
  },
  {
   "cell_type": "code",
   "execution_count": 7,
   "id": "5a05fec8",
   "metadata": {},
   "outputs": [],
   "source": [
    "#Message config\n",
    "message_url = \"https://www.fast2sms.com/dev/bulk\"\n",
    "\n",
    "my_data = {\n",
    "     # Your default Sender ID\n",
    "    'sender_id': 'FSTSMS', \n",
    "    \n",
    "    'message': '', \n",
    "    \n",
    "    'language': 'english',\n",
    "    'route': 'p',\n",
    "\n",
    "    # separated by comma.\n",
    "    'numbers':  '',\n",
    "}\n",
    "  \n",
    "message_headers = {\n",
    "    'authorization': 'xDqak7et1LpB6jNsiKYo4TvCdw9r2mf0GAu5IzS3cOXQMyJWHnfkMvobSyPOKex3L2z1RN4HadV5thWT',\n",
    "    'Content-Type': \"application/x-www-form-urlencoded\",\n",
    "    'Cache-Control': \"no-cache\"\n",
    "}"
   ]
  },
  {
   "cell_type": "code",
   "execution_count": 8,
   "id": "724d691c",
   "metadata": {},
   "outputs": [],
   "source": [
    "text_message={\n",
    "    'mumbai':'',\n",
    "    'bangalore':''\n",
    "}"
   ]
  },
  {
   "cell_type": "code",
   "execution_count": 9,
   "id": "1d0c4f32",
   "metadata": {},
   "outputs": [],
   "source": [
    "def print_message(slots,available_date,city):\n",
    "    text_message[city] += '  Date:' + available_date[:5] + '  '\n",
    "    for slot in slots:\n",
    "        text_message[city] += 'Pincode: ' + str(slot[0])[-2:] + '  ' + ','.join(slot[1]) + '  '\n",
    "        "
   ]
  },
  {
   "cell_type": "code",
   "execution_count": 10,
   "id": "2d945c15",
   "metadata": {},
   "outputs": [],
   "source": [
    "for city in available_centers:\n",
    "    for slot in available_centers[city]:\n",
    "        [print_message(available_centers[city][slot], slot, city) for x in available_centers[city][slot]]"
   ]
  },
  {
   "cell_type": "code",
   "execution_count": 11,
   "id": "d5bfdc9d",
   "metadata": {},
   "outputs": [
    {
     "data": {
      "text/plain": [
       "{'mumbai': '', 'bangalore': ''}"
      ]
     },
     "execution_count": 11,
     "metadata": {},
     "output_type": "execute_result"
    }
   ],
   "source": [
    "text_message"
   ]
  },
  {
   "cell_type": "code",
   "execution_count": 12,
   "id": "f410372e",
   "metadata": {},
   "outputs": [],
   "source": [
    "for city in text_message:\n",
    "    if text_message[city]:\n",
    "        my_data['message'] = text_message[city]\n",
    "        my_data['numbers'] = {Comma separated string of numbers for mumbai} if city == 'mumbai' else {Comma separated string of numbers for Bangalore}\n",
    "        requests.request(\"POST\",message_url,data = my_data,headers = message_headers)"
   ]
  }
 ],
 "metadata": {
  "kernelspec": {
   "display_name": "Python 3",
   "language": "python",
   "name": "python3"
  },
  "language_info": {
   "codemirror_mode": {
    "name": "ipython",
    "version": 3
   },
   "file_extension": ".py",
   "mimetype": "text/x-python",
   "name": "python",
   "nbconvert_exporter": "python",
   "pygments_lexer": "ipython3",
   "version": "3.7.3"
  }
 },
 "nbformat": 4,
 "nbformat_minor": 5
}
